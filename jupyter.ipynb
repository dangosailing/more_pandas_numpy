{
 "cells": [
  {
   "cell_type": "code",
   "execution_count": 7,
   "metadata": {},
   "outputs": [
    {
     "name": "stdout",
     "output_type": "stream",
     "text": [
      "   Student ID        Date   Class Time Attendance Status  Stress Level (GSR)  \\\n",
      "0           1  2024-12-01   9:00-15:00              Late                0.92   \n",
      "1           1  2024-12-02   8:00-16:00              Late                1.17   \n",
      "2           1  2024-12-03  11:00-14:00              Late                4.56   \n",
      "3           1  2024-12-04  11:00-16:00              Late                3.07   \n",
      "4           1  2024-12-05   9:00-13:00            Absent                3.93   \n",
      "\n",
      "   Sleep Hours  Anxiety Level  Mood Score Risk Level  \n",
      "0          7.6              6           6        Low  \n",
      "1          6.0              6           2     Medium  \n",
      "2          6.3              4           8       High  \n",
      "3          9.0              2          10        Low  \n",
      "4          7.4              9           4       High  \n"
     ]
    }
   ],
   "source": [
    "import pandas as pd\n",
    "\n",
    "df = pd.read_csv(\"student_monnitoring_data.csv\") \n",
    "print(df.head()) "
   ]
  },
  {
   "cell_type": "code",
   "execution_count": null,
   "metadata": {},
   "outputs": [],
   "source": []
  }
 ],
 "metadata": {
  "kernelspec": {
   "display_name": "venv",
   "language": "python",
   "name": "python3"
  },
  "language_info": {
   "codemirror_mode": {
    "name": "ipython",
    "version": 3
   },
   "file_extension": ".py",
   "mimetype": "text/x-python",
   "name": "python",
   "nbconvert_exporter": "python",
   "pygments_lexer": "ipython3",
   "version": "3.12.7"
  }
 },
 "nbformat": 4,
 "nbformat_minor": 2
}
